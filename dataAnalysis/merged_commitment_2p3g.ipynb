{
 "cells": [
  {
   "cell_type": "markdown",
   "metadata": {},
   "source": [
    "# Merged Commitment Analysis (2P3G)\n",
    "\n",
    "This notebook merges commitment analyses across Human–Human, Human–GPT, and Human–RL conditions, focusing on 2P3G.\n",
    "\n",
    "- Human–Human and Human–GPT data: `dataAnalysis/human-human-with-gpt-fallback/oldAnalytsis/commitment_analysis_clean.ipynb` logic\n",
    "- Human–RL data: `dataAnalysis/human-RLs/2-commitment_analysis.ipynb` outputs\n",
    "\n",
    "Outputs:\n",
    "- Participant-level merged table for 2P3G\n",
    "- Bar plot of human commitment across four types: Human–Human, Human–GPT, RL (Individual), RL (Joint)\n"
   ]
  },
  {
   "cell_type": "code",
   "execution_count": null,
   "metadata": {},
   "outputs": [],
   "source": [
    "import pandas as pd\n",
    "import numpy as np\n",
    "import matplotlib.pyplot as plt\n",
    "import seaborn as sns\n",
    "from pathlib import Path\n",
    "\n",
    "plt.style.use('seaborn-v0_8-whitegrid')\n",
    "sns.set_context('talk')\n",
    "\n",
    "# Paths\n",
    "HHGPT_DIR = Path('dataAnalysis/human-human-with-gpt-fallback/oldAnalytsis')\n",
    "HRL_DIR = Path('dataAnalysis/human-RLs')\n",
    "\n",
    "# Files\n",
    "hhgpt_trials_csv = HHGPT_DIR / 'combined_experiment_data.csv'\n",
    "hhgpt_class_csv = HHGPT_DIR / 'game_classification_results.csv'\n",
    "hrl_participant_csv = HRL_DIR / 'commitment_analysis_participant_level_data.csv'\n",
    "\n",
    "hhgpt_trials_csv, hhgpt_class_csv, hrl_participant_csv\n"
   ]
  },
  {
   "cell_type": "markdown",
   "metadata": {},
   "source": [
    "## Load and prepare HH–GPT trial-level data (2P3G)\n",
    "- Merge game class by file id\n",
    "- Compute human commitment using shared goal vs human final goal\n",
    "- Ensure human index handling is correct for Human–GPT and defaults to player1 for Human–Human (NaN index)\n"
   ]
  },
  {
   "cell_type": "code",
   "execution_count": null,
   "metadata": {},
   "outputs": [],
   "source": [
    "# Load HH–GPT trials\n",
    "df_hhgpt = pd.read_csv(hhgpt_trials_csv)\n",
    "# Derive file_id to join classification (aligned with commitment_analysis_clean.ipynb)\n",
    "df_hhgpt['file_id'] = df_hhgpt['source_file']\n",
    "\n",
    "# Merge classification\n",
    "class_map = pd.read_csv(hhgpt_class_csv)[['file_id','game_class']]\n",
    "df_hhgpt = df_hhgpt.merge(class_map, on='file_id', how='left')\n",
    "\n",
    "# Filter Human–Human and Human–GPT only\n",
    "df_hhgpt = df_hhgpt[df_hhgpt['game_class'].isin(['human-human', 'human-gpt'])].copy()\n",
    "\n",
    "# Focus on 2P3G\n",
    "df_hhgpt_2p3g = df_hhgpt[df_hhgpt['experimentType'] == '2P3G'].copy()\n",
    "\n",
    "# Standardize participant ID column name\n",
    "if 'participantId' in df_hhgpt_2p3g.columns and 'participantID' not in df_hhgpt_2p3g.columns:\n",
    "    df_hhgpt_2p3g = df_hhgpt_2p3g.rename(columns={'participantId':'participantID'})\n",
    "\n",
    "len(df_hhgpt_2p3g), df_hhgpt_2p3g[['participantID','game_class']].drop_duplicates().shape[0]\n"
   ]
  },
  {
   "cell_type": "code",
   "execution_count": null,
   "metadata": {},
   "outputs": [],
   "source": [
    "# Commitment functions (aligned with commitment_analysis_clean.ipynb)\n",
    "def calculate_human_commitment_2p3g(row):\n",
    "    shared_goal = row.get('firstDetectedSharedGoal')\n",
    "    human_index = row.get('humanPlayerIndex')\n",
    "    # Default to player1 for human-human (NaN human index)\n",
    "    if pd.isna(human_index):\n",
    "        human_index = 0\n",
    "    if pd.isna(shared_goal):\n",
    "        return np.nan\n",
    "    # Get human player's final reached goal\n",
    "    if human_index == 0:\n",
    "        human_final_goal = row.get('player1FinalReachedGoal')\n",
    "    else:\n",
    "        human_final_goal = row.get('player2FinalReachedGoal')\n",
    "    if pd.isna(human_final_goal):\n",
    "        return np.nan\n",
    "    try:\n",
    "        return 1 if int(shared_goal) == int(human_final_goal) else 0\n",
    "    except (ValueError, TypeError):\n",
    "        return np.nan\n",
    "\n",
    "# Compute human commitment for HH–GPT (2P3G)\n",
    "df_hhgpt_2p3g['human_commitment'] = df_hhgpt_2p3g.apply(calculate_human_commitment_2p3g, axis=1)\n",
    "\n",
    "# Participant-level (mean over trials)\n",
    "hhgpt_participant = (\n",
    "    df_hhgpt_2p3g\n",
    "    .groupby(['participantID','game_class'], as_index=False)['human_commitment']\n",
    "    .mean()\n",
    ")\n",
    "hhgpt_participant = hhgpt_participant.rename(columns={'human_commitment':'commitment_rate'})\n",
    "hhgpt_participant['group_type'] = hhgpt_participant['game_class']\n",
    "hhgpt_participant = hhgpt_participant[['participantID','group_type','commitment_rate']]\n",
    "hhgpt_participant.head()\n"
   ]
  },
  {
   "cell_type": "markdown",
   "metadata": {},
   "source": [
    "## Load Human–RL participant-level data (2P3G)\n",
    "Map RL agent type to two additional groups: RL (Individual), RL (Joint).\n"
   ]
  },
  {
   "cell_type": "code",
   "execution_count": null,
   "metadata": {},
   "outputs": [],
   "source": [
    "df_hrl = pd.read_csv(hrl_participant_csv)\n",
    "df_hrl_2p3g = df_hrl[df_hrl['experiment_category'] == '2P3G'].copy()\n",
    "# Map rlAgentType to unified group names\n",
    "mapping = {'individual': 'human-rl-individual', 'joint': 'human-rl-joint'}\n",
    "df_hrl_2p3g['group_type'] = df_hrl_2p3g['rlAgentType'].map(mapping)\n",
    "df_hrl_2p3g = df_hrl_2p3g[['participantID','group_type','commitment_rate']]\n",
    "df_hrl_2p3g.head()\n"
   ]
  },
  {
   "cell_type": "markdown",
   "metadata": {},
   "source": [
    "## Merge and Plot (2P3G across four types)\n",
    "Groups: Human–Human, Human–GPT, Human–RL (Individual), Human–RL (Joint).\n"
   ]
  },
  {
   "cell_type": "code",
   "execution_count": null,
   "metadata": {},
   "outputs": [],
   "source": [
    "merged = pd.concat([hhgpt_participant, df_hrl_2p3g], ignore_index=True)\n",
    "# Order groups\n",
    "group_order = ['human-human', 'human-gpt', 'human-rl-individual', 'human-rl-joint']\n",
    "merged['group_type'] = pd.Categorical(merged['group_type'], categories=group_order, ordered=True)\n",
    "\n",
    "summary = (\n",
    "    merged.groupby('group_type')['commitment_rate']\n",
    "    .agg(['mean','count'])\n",
    "    .rename(columns={'count':'n'})\n",
    ")\n",
    "summary['sem'] = merged.groupby('group_type')['commitment_rate'].sem()\n",
    "summary = summary.reset_index()\n",
    "summary\n"
   ]
  },
  {
   "cell_type": "code",
   "execution_count": null,
   "metadata": {},
   "outputs": [],
   "source": [
    "# Plot\n",
    "fig, ax = plt.subplots(figsize=(8,5))\n",
    "colors = {\n",
    "    'human-human': 'steelblue',\n",
    "    'human-gpt': 'indianred',\n",
    "    'human-rl-individual': 'darkorange',\n",
    "    'human-rl-joint': 'seagreen'\n",
    "}\n",
    "x = np.arange(len(group_order))\n",
    "means = [summary.set_index('group_type').loc[g, 'mean'] if g in summary['group_type'].values else np.nan for g in group_order]\n",
    "sems = [summary.set_index('group_type').loc[g, 'sem'] if g in summary['group_type'].values else np.nan for g in group_order]\n",
    "ns = [int(summary.set_index('group_type').loc[g, 'n']) if g in summary['group_type'].values else 0 for g in group_order]\n",
    "\n",
    "bars = ax.bar(x, means, yerr=sems, capsize=5, color=[colors[g] for g in group_order], alpha=0.85)\n",
    "ax.set_xticks(x)\n",
    "ax.set_xticklabels(['Human–Human', 'Human–GPT', 'RL (Indiv.)', 'RL (Joint)'])\n",
    "ax.set_ylim(0, 1.05)\n",
    "ax.set_ylabel('Human Commitment Rate')\n",
    "ax.set_title('2P3G: Commitment Across Four Game Types')\n",
    "# Annotate Ns\n",
    "for xi, bi, ni, mi in zip(x, bars, ns, means):\n",
    "    ax.text(xi, bi.get_height() + (0.02 if not np.isnan(mi) else 0.0), f'n={ni}', ha='center', va='bottom', fontsize=10)\n",
    "plt.tight_layout()\n",
    "out_path = Path('dataAnalysis') / 'commitment_2p3g_four_types.png'\n",
    "plt.savefig(out_path, dpi=200)\n",
    "out_path\n"
   ]
  }
 ],
 "metadata": {
  "kernelspec": {
   "display_name": "Python 3",
   "language": "python",
   "name": "python3"
  },
  "language_info": {
   "name": "python",
   "version": "3.10"
  }
 },
 "nbformat": 4,
 "nbformat_minor": 5
}

